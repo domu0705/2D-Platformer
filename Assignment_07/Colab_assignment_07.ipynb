{
  "cells": [
    {
      "cell_type": "markdown",
      "metadata": {
        "id": "63aOEusN1Tgf"
      },
      "source": [
        "# Supervised image denoising\n",
        "이미지에 포함된 noise를 제거하는 neural NW를 만들기"
      ]
    },
    {
      "cell_type": "markdown",
      "metadata": {
        "id": "uCIAhtbr1Yhs"
      },
      "source": [
        "## Import libraries"
      ]
    },
    {
      "cell_type": "code",
      "execution_count": 390,
      "metadata": {
        "id": "2xzQSB-t95mT"
      },
      "outputs": [],
      "source": [
        "import torch\n",
        "import torchvision\n",
        "from torch.utils.data import Dataset\n",
        "from os import listdir\n",
        "from os.path import join\n",
        "from torchvision.transforms import Compose, ToTensor, ToPILImage, Resize, Lambda, Normalize, Grayscale\n",
        "from torch.utils.data import DataLoader\n",
        "from PIL import Image\n",
        "import matplotlib.pyplot as plt\n",
        "import numpy as np\n",
        "import torch.nn as nn\n",
        "import torch.nn.functional as F\n",
        "import torch.optim as optim\n",
        "from math import log10\n",
        "from tqdm.notebook import tqdm\n",
        "import os"
      ]
    },
    {
      "cell_type": "markdown",
      "metadata": {
        "id": "3fvdQA9THZPs"
      },
      "source": [
        "## Load data"
      ]
    },
    {
      "cell_type": "code",
      "execution_count": 391,
      "metadata": {
        "colab": {
          "base_uri": "https://localhost:8080/"
        },
        "id": "ckroXmQgHbCb",
        "outputId": "ffa49eb3-4274-4e09-d5fd-ea7a396325e9"
      },
      "outputs": [
        {
          "output_type": "stream",
          "name": "stdout",
          "text": [
            "Drive already mounted at /content/drive; to attempt to forcibly remount, call drive.mount(\"/content/drive\", force_remount=True).\n"
          ]
        }
      ],
      "source": [
        "from google.colab import drive\n",
        "drive.mount('/content/drive')\n",
        "\n",
        "directory_data  = '/content/drive/MyDrive/Machine_Learning/07/assignment_07_data.npz'\n",
        "data            = np.load(directory_data)\n",
        "\n",
        "train_data       = data['x_train'] #학습에 사용되는 깨끗한 이미지. train -> train_data 로 이름 내가 바꿈\n",
        "train_noise = data['x_train_noise']#학습에 사용되는 깨끗한 이미지에 노이즈가 추가된 이미지\n",
        "\n",
        "test_data        = data['x_test'] #테스트에 사용되는 깨끗한 이미지\n",
        "test_noise  = data['x_test_noise']#테스트에 사용되는 깨끗한 이미지에 노이즈가 추가된 이미지\n",
        "\n",
        "num_train   = train_data.shape[0]#학습 데이터의 수\n",
        "num_test    = test_data.shape[0] #테스트 데이터의 수"
      ]
    },
    {
      "cell_type": "code",
      "execution_count": 392,
      "metadata": {
        "colab": {
          "base_uri": "https://localhost:8080/"
        },
        "id": "1WY50HZL7B0R",
        "outputId": "53c322e3-b8d6-44d7-8b22-edc2f9463b5f"
      },
      "outputs": [
        {
          "output_type": "stream",
          "name": "stdout",
          "text": [
            "*************************************************\n",
            "size of train : (10000, 32, 32)\n",
            "size of train_noise : (10000, 32, 32)\n",
            "*************************************************\n",
            "size of test : (5000, 32, 32)\n",
            "size of test_noise : (5000, 32, 32)\n",
            "*************************************************\n"
          ]
        }
      ],
      "source": [
        "print('*************************************************')\n",
        "print('size of train :', train_data.shape) #학습 깨끗한 이미지 데이터는 10000개. 각 32by32임.\n",
        "print('size of train_noise :', train_noise.shape) #학습 노이즈 포함 이미지 10000개. 각 32by32임.\n",
        "print('*************************************************')\n",
        "print('size of test :', test_data.shape)#테스트 깨끗한 이미지 데이터는 5000개. 각 32by32임.\n",
        "print('size of test_noise :', test_noise.shape)#테스트  노이즈 포함  이미지 데이터는 5000개. 각 32by32임.\n",
        "print('*************************************************')"
      ]
    },
    {
      "cell_type": "markdown",
      "metadata": {
        "id": "T-bD_tpn7B0S"
      },
      "source": [
        "## plot examples of the data"
      ]
    },
    {
      "cell_type": "code",
      "execution_count": 393,
      "metadata": {
        "colab": {
          "base_uri": "https://localhost:8080/",
          "height": 303
        },
        "id": "4Fg-o9cm7B0S",
        "outputId": "7612f954-34fb-4e08-d651-fdfb4c5c9916"
      },
      "outputs": [
        {
          "output_type": "display_data",
          "data": {
            "text/plain": [
              "<Figure size 576x288 with 8 Axes>"
            ],
            "image/png": "[encoded data removed]"
          },
          "metadata": {
            "needs_background": "light"
          }
        }
      ],
      "source": [
        "nRow = 2\n",
        "nCol = 4\n",
        "size = 2\n",
        "\n",
        "title       = 'examples of the data'\n",
        "fig, axes   = plt.subplots(nRow, nCol, figsize=(size * nCol, size * nRow))\n",
        "fig.suptitle(title, fontsize=16)\n",
        "\n",
        "for c in range(nCol):\n",
        "\n",
        "    axes[0, c].imshow(train_data[c * 1000], cmap='gray')\n",
        "    axes[1, c].imshow(train_noise[c * 1000], cmap='gray')\n",
        "\n",
        "    axes[0, c].xaxis.set_visible(False)\n",
        "    axes[1, c].xaxis.set_visible(False)\n",
        "    \n",
        "    axes[0, c].yaxis.set_visible(False)\n",
        "    axes[1, c].yaxis.set_visible(False)\n",
        "\n",
        "plt.tight_layout()\n",
        "plt.show()"
      ]
    },
    {
      "cell_type": "markdown",
      "metadata": {
        "id": "nc_CuzLW7B0S"
      },
      "source": [
        "## custom data loader for the PyTorch framework"
      ]
    },
    {
      "cell_type": "code",
      "execution_count": 394,
      "metadata": {
        "id": "S9F_1eIN7B0T"
      },
      "outputs": [],
      "source": [
        "#위에서 로드한 데이터를 파이토치에서 사용하기 위한 함수. 변경하지 말것\n",
        "class dataset(Dataset):\n",
        "    \n",
        "    def __init__(self, image, image_noise):\n",
        "        \n",
        "        self.image          = image\n",
        "        self.image_noise    = image_noise\n",
        "    \n",
        "    def __getitem__(self, index):\n",
        "        \n",
        "        image       = self.image[index]\n",
        "        image_noise = self.image_noise[index]\n",
        "\n",
        "        image       = torch.FloatTensor(image).unsqueeze(dim=0)\n",
        "        image_noise = torch.FloatTensor(image_noise).unsqueeze(dim=0)\n",
        "\n",
        "        return (image, image_noise)\n",
        "    \n",
        "    def __len__(self):\n",
        "\n",
        "        number_image = self.image.shape[0]\n",
        "\n",
        "        return number_image"
      ]
    },
    {
      "cell_type": "markdown",
      "metadata": {
        "id": "PbtJGVEN7B0T"
      },
      "source": [
        "## setting device"
      ]
    },
    {
      "cell_type": "code",
      "execution_count": 395,
      "metadata": {
        "id": "-4Eyd5iK7B0T"
      },
      "outputs": [],
      "source": [
        "device = torch.device('cuda' if torch.cuda.is_available() else 'cpu') #cpu 쓸거면 else 문의 mps 대신 cpu로 바꾸기"
      ]
    },
    {
      "cell_type": "code",
      "execution_count": 396,
      "metadata": {
        "colab": {
          "base_uri": "https://localhost:8080/"
        },
        "id": "0b__8EQh7B0T",
        "outputId": "9497a0d0-f4bc-4608-c450-da126a8cf34d"
      },
      "outputs": [
        {
          "output_type": "stream",
          "name": "stdout",
          "text": [
            "cuda\n"
          ]
        }
      ],
      "source": [
        "print(device)"
      ]
    },
    {
      "cell_type": "markdown",
      "metadata": {
        "id": "SvjaXISI7B0U"
      },
      "source": [
        "## construct datasets and dataloaders for training and testing"
      ]
    },
    {
      "cell_type": "code",
      "execution_count": 397,
      "metadata": {
        "id": "s7O7UJqS7B0U"
      },
      "outputs": [],
      "source": [
        "# ================================================== \n",
        "# determine your own parameter value\n",
        "#\n",
        "size_minibatch      = 50 #알아서 수정\n",
        "#\n",
        "# ================================================== \n",
        "\n",
        "dataset_train       = dataset(train_data, train_noise) #clean image 와 노이즈 포함된 이미지가 짝으로 들어있음\n",
        "dataset_test        = dataset(test_data, test_noise) #clean image 와 노이즈 포함된 이미지가 짝으로 들어있음\n",
        "\n",
        "#미니배치보다 적은 수의 데이터가 남아있으면 버림(drop last=true)\n",
        "dataloader_train    = torch.utils.data.DataLoader(dataset_train, batch_size=size_minibatch, shuffle=True, drop_last=True)\n",
        "dataloader_test     = torch.utils.data.DataLoader(dataset_test, batch_size=size_minibatch, shuffle=True, drop_last=True)"
      ]
    },
    {
      "cell_type": "markdown",
      "metadata": {
        "id": "uWtm9C-I7B0U"
      },
      "source": [
        "## shape of the data when using the data loader"
      ]
    },
    {
      "cell_type": "code",
      "execution_count": 398,
      "metadata": {
        "id": "ca1n4kJU7B0U"
      },
      "outputs": [],
      "source": [
        "train_image, train_image_noise = next(iter(dataloader_train))\n",
        "test_image, test_image_noise = next(iter(dataloader_test))"
      ]
    },
    {
      "cell_type": "code",
      "execution_count": 399,
      "metadata": {
        "colab": {
          "base_uri": "https://localhost:8080/"
        },
        "id": "Zq8r4LQP7B0U",
        "outputId": "089debf1-d783-4dfa-e8ba-336547381d64"
      },
      "outputs": [
        {
          "output_type": "stream",
          "name": "stdout",
          "text": [
            "************************************************************\n",
            "size of mini-batch of the training image: torch.Size([50, 1, 32, 32])\n",
            "************************************************************\n",
            "size of mini-batch of the training image_noise: torch.Size([50, 1, 32, 32])\n",
            "************************************************************\n",
            "size of mini-batch of the testing image: torch.Size([50, 1, 32, 32])\n",
            "************************************************************\n",
            "size of mini-batch of the testing image_noise: torch.Size([50, 1, 32, 32])\n",
            "************************************************************\n"
          ]
        }
      ],
      "source": [
        "#두번째 인자 1 은 채널임. (파이토치는 nnw의 인픗으로 줄 때 채널의 수를 줌)\n",
        "# 인자: mini-batch-size x channel x height x width\n",
        "print('************************************************************')\n",
        "print('size of mini-batch of the training image:', train_image.shape) #iteration마다 로딩되는 데이터의 사이즈.(미니배치의 사이즈와 동일)\n",
        "print('************************************************************')\n",
        "print('size of mini-batch of the training image_noise:', train_image_noise.shape)\n",
        "print('************************************************************')\n",
        "print('size of mini-batch of the testing image:', test_image.shape)\n",
        "print('************************************************************')\n",
        "print('size of mini-batch of the testing image_noise:', test_image_noise.shape)\n",
        "print('************************************************************')"
      ]
    },
    {
      "cell_type": "markdown",
      "metadata": {
        "id": "8ngJeHXH2dfj"
      },
      "source": [
        "## construct a neural network "
      ]
    },
    {
      "cell_type": "code",
      "execution_count": 400,
      "metadata": {
        "id": "PjlHwUOV-UCh"
      },
      "outputs": [],
      "source": [
        "# ================================================== \n",
        "# define your own neural network architecture and initialization\n",
        "#\n",
        "class Network(nn.Module):\n",
        "    def __init__(self):\n",
        "        super(Network,self).__init__()\n",
        "\n",
        "        # -------------------------------------------------\n",
        "        # Encoder (문제에 주어진 함수들만 사용하여 자유롭게 변경하기.channel의 수, layer의 수 변경가능. \n",
        "        #(activation function(=ReLU ?),BatchNorm2d 을 사용하든 말든 알아서. )\n",
        "        # -------------------------------------------------\n",
        "        self.encoder_layer1 = nn.Sequential(\n",
        "            #convolution을 수행. input channel=1 , outputchannel=2. 내가 채널 수는 자유롭게 수정하면 됩.\n",
        "            nn.Conv2d(in_channels=1, out_channels=2, kernel_size=3, stride=1, padding=1, bias=True),  \n",
        "            nn.MaxPool2d(2,2), #2by2커널의 맥시멈 값만 가져옴. 그래서 사이즈가 반으로 줄음\n",
        "            nn.ReLU(),# 액티베이션 함수\n",
        "            nn.BatchNorm2d(2), #feature들의 값을 normalize함.= batch normalization. 이때 인자는 outputchannel의 수와 동일해야 함.(8로 오타있었음)\n",
        "        )\n",
        "        \n",
        "        self.encoder_layer2 = nn.Sequential(\n",
        "            #위의 아웃풋이 인풋의 숫자로 들어감. output channel도 자유롭게 수정하기. \n",
        "            nn.Conv2d(in_channels=2, out_channels=4, kernel_size=3, stride=1, padding=1, bias=True),\n",
        "            nn.MaxPool2d(2,2), #이미지 사이즈를 반으로,.\n",
        "            nn.ReLU(),\n",
        "            nn.BatchNorm2d(4),#이 사이즈는 위의 outputchannel의 수와 동일해야 함.(16으로 오타있었음)\n",
        "        )\n",
        "\n",
        "        # -------------------------------------------------\n",
        "        # Decoder\n",
        "        # -------------------------------------------------\n",
        "        self.decoder_layer2 = nn.Sequential(\n",
        "            #bilinear을 사용한다는 말은 데이터의 사이즈를 두배로 키운다는 뜻.\n",
        "            nn.Upsample(scale_factor=2, mode='bilinear', align_corners=False),\n",
        "            # \n",
        "            nn.Conv2d(in_channels=4, out_channels=2, kernel_size=3, stride=1, padding=1, bias=True),\n",
        "            nn.ReLU(),\n",
        "            nn.BatchNorm2d(2), #위 out_channels과 동일한 숫자여야 함 (오타 8)\n",
        "        )\n",
        "        \n",
        "        self.decoder_layer1 = nn.Sequential(\n",
        "            nn.Upsample(scale_factor=2, mode='bilinear', align_corners=False),\n",
        "            # 마지막 Conv2d에서 out_channels의 수는 무조건 1이어야 함\n",
        "            nn.Conv2d(in_channels=2, out_channels=1, kernel_size=3, stride=1, padding=1, bias=True),\n",
        "            nn.Sigmoid(), #activation function. output값이 0~1사이가 되도록 제한함.\n",
        "        )\n",
        "\n",
        "        # -------------------------------------------------\n",
        "        # Network\n",
        "        # -------------------------------------------------\n",
        "        self.network = nn.Sequential(\n",
        "            self.encoder_layer1,\n",
        "            self.encoder_layer2,\n",
        "            self.decoder_layer2, \n",
        "            self.decoder_layer1,\n",
        "        )\n",
        "\n",
        "        self.initialize_weight()# 바로 아래 정의 있음.\n",
        "\n",
        "    def forward(self,x):\n",
        "    \n",
        "        out = self.network(x)\n",
        "      \n",
        "        return out\n",
        "\n",
        "    # ======================================================================\n",
        "    # initialize weights #여기도 자유롭게 수정\n",
        "    # ======================================================================\n",
        "    def initialize_weight(self):\n",
        "            \n",
        "        for m in self.network.modules():\n",
        "            \n",
        "            if isinstance(m, nn.Conv2d):\n",
        "\n",
        "                nn.init.xavier_uniform_(m.weight) #성능에 맞춰서 내가 알아서 다양한 initialization 함수를 사용하면 됨\n",
        "                if m.bias is not None:\n",
        "\n",
        "                    nn.init.constant_(m.bias, 1)\n",
        "                    pass\n",
        "                    \n",
        "            elif isinstance(m, nn.BatchNorm2d):\n",
        "                \n",
        "                nn.init.constant_(m.weight, 1)\n",
        "                nn.init.constant_(m.bias, 1)\n",
        "                \n",
        "            elif isinstance(m, nn.Linear):\n",
        "\n",
        "                nn.init.xavier_uniform_(m.weight)\n",
        "\n",
        "                if m.bias is not None:\n",
        "                    \n",
        "                    nn.init.constant_(m.bias, 1)\n",
        "                    pass\n",
        "#\n",
        "# ================================================== "
      ]
    },
    {
      "cell_type": "markdown",
      "metadata": {
        "id": "vTXZnsrGLoxg"
      },
      "source": [
        "## build the network"
      ]
    },
    {
      "cell_type": "code",
      "execution_count": 401,
      "metadata": {
        "id": "xsGGOsXKLuc1"
      },
      "outputs": [],
      "source": [
        "# ================================================== \n",
        "# determine your own parameter value\n",
        "# 알아서 수정\n",
        "learning_rate   = 0.001\n",
        "weight_decay    = 0.001\n",
        "number_epoch    = 200\n",
        "#\n",
        "# ================================================== \n",
        "\n",
        "model       = Network().to(device) #gpu,cpu로 옮김\n",
        "optimizer   = torch.optim.SGD(model.parameters(), lr=learning_rate, weight_decay=weight_decay)"
      ]
    },
    {
      "cell_type": "markdown",
      "metadata": {
        "id": "6yE9LChkQ5G2"
      },
      "source": [
        "## compute the prediction"
      ]
    },
    {
      "cell_type": "code",
      "execution_count": 402,
      "metadata": {
        "id": "9mgS8kzGQ502"
      },
      "outputs": [],
      "source": [
        "def compute_prediction(model, input):\n",
        "\n",
        "    prediction = model(input)\n",
        "\n",
        "    return prediction"
      ]
    },
    {
      "cell_type": "markdown",
      "metadata": {
        "id": "UQVz0ChdM9KL"
      },
      "source": [
        "## compute the loss\n",
        "- use the mean squared error for the loss\n",
        "- use the following loss function `nn.MSELoss()`\n",
        "- input dimension: mini-batch-size x channel x height x width"
      ]
    },
    {
      "cell_type": "code",
      "execution_count": 403,
      "metadata": {
        "id": "XbvdtlxKNAmm"
      },
      "outputs": [],
      "source": [
        "def compute_loss(prediction, original):\n",
        "    # ================================================== \n",
        "    # fill up the blank\n",
        "    # noise data가 input으로 들어왔을 때 prediction 과 progimal image와의 mean square error을 파이토치의 msdloss로 계산\n",
        "    criterion = nn.MSELoss() \n",
        "    loss = criterion(prediction, original)\n",
        "    #\n",
        "    # ================================================== \n",
        "\n",
        "    return loss"
      ]
    },
    {
      "cell_type": "markdown",
      "metadata": {
        "id": "c_qRczC77B0W"
      },
      "source": [
        "## compute the loss value"
      ]
    },
    {
      "cell_type": "code",
      "execution_count": 404,
      "metadata": {
        "id": "oUstDBJj7B0W"
      },
      "outputs": [],
      "source": [
        "def compute_loss_value(loss):\n",
        "    \n",
        "    loss_value = loss.item() #loss의 값을 실제 스케일로 얻음\n",
        "    \n",
        "    return loss_value"
      ]
    },
    {
      "cell_type": "markdown",
      "metadata": {
        "id": "lKGc41X7NZ_M"
      },
      "source": [
        "## compute the PSNR metric"
      ]
    },
    {
      "cell_type": "markdown",
      "metadata": {
        "id": "61iIRa9w7B0W"
      },
      "source": [
        "- input dimension: mini-batch-size x channel x height x width\n",
        "- psnr is defined by $10 * \\log_{10}(\\frac{1}{\\textrm{MSE}})$\n",
        "- MSE is defined by $\\textrm{MSE}(x, y) = \\frac{1}{n} \\| x - y \\|_2^2$ where $n$ is the length of data $x$ and $y$"
      ]
    },
    {
      "cell_type": "code",
      "execution_count": 405,
      "metadata": {
        "id": "9ctApFm_7B0W"
      },
      "outputs": [],
      "source": [
        "def compute_psnr(data1, data2):\n",
        "\n",
        "    mse         = nn.MSELoss()(data1, data2)\n",
        "    mse_value   = mse.item() \n",
        "    psnr        = 10 * np.log10(1 / mse_value)\n",
        "\n",
        "    return psnr"
      ]
    },
    {
      "cell_type": "markdown",
      "metadata": {
        "id": "9UIl4gCp2hE6"
      },
      "source": [
        "## Variable for the learning curves"
      ]
    },
    {
      "cell_type": "code",
      "execution_count": 406,
      "metadata": {
        "id": "NXs-w_99-cuZ"
      },
      "outputs": [],
      "source": [
        "#epoch마다저장\n",
        "loss_train_mean = np.zeros(number_epoch)# train loss의 mean\n",
        "loss_train_std  = np.zeros(number_epoch)\n",
        "psnr_train_mean = np.zeros(number_epoch)\n",
        "psnr_train_std  = np.zeros(number_epoch)\n",
        "\n",
        "loss_test_mean  = np.zeros(number_epoch)\n",
        "loss_test_std   = np.zeros(number_epoch)\n",
        "psnr_test_mean  = np.zeros(number_epoch)\n",
        "psnr_test_std   = np.zeros(number_epoch)"
      ]
    },
    {
      "cell_type": "markdown",
      "metadata": {
        "id": "y7HWScczDn6S"
      },
      "source": [
        "## train"
      ]
    },
    {
      "cell_type": "code",
      "execution_count": 407,
      "metadata": {
        "id": "Q3p34UDlDqWg"
      },
      "outputs": [],
      "source": [
        "def train(model, optimizer, dataloader):\n",
        "\n",
        "    loss_epoch      = []\n",
        "    psnr_epoch      = []\n",
        "\n",
        "    model.train() #train  model로 사용해야 함,\n",
        "\n",
        "    #image = clean image, image_noise=noise가 포함된 image. dataloader=training data\n",
        "    for index_batch, (image, image_noise) in enumerate(dataloader):\n",
        "        #mj: image 는 미니배치 내에서의 data\n",
        "        #device로 옮겨줌\n",
        "        image       = image.to(device)\n",
        "        image_noise = image_noise.to(device)\n",
        "        \n",
        "        # ================================================== \n",
        "        # fill up the blank\n",
        "        #       \n",
        "        train_pred = compute_prediction(model, image_noise)\n",
        "        loss        = compute_loss(train_pred,image)#loss object가 결과로 나옴\n",
        "        loss_value  = compute_loss_value(loss) # loss의 scaler값을구하기 \n",
        "        psnr        = compute_psnr(train_pred,image)\n",
        "        #\n",
        "        # ================================================== \n",
        "\n",
        "        loss_epoch.append(loss_value)#얻은 값 추가\n",
        "        psnr_epoch.append(psnr)\n",
        "\n",
        "        # ================================================== \n",
        "        # fill up the blank (update moodel parameters)\n",
        "        #  구한 값으로 model parameter을 업데이트.    \n",
        "        # optimizer을 통해 nnw를 loss를 통해 업데이트 하기.\n",
        "        optimizer.zero_grad()\n",
        "        loss.backward()   # backpropagate the loss. Require_grad=True로 설정된 모든 텐서들에 대해 gradient를 계산한다.\n",
        "        optimizer.step()        # adjust parameters based on the calculated gradients.= 경사하강법(gradient descent)\n",
        "\n",
        "\n",
        "        #\n",
        "        # ==================================================  \n",
        "    \n",
        "    #mini batch마다의 loss의 mean,std...등을 저장해서 return 함.\n",
        "    loss_mean   = np.mean(loss_epoch)\n",
        "    loss_std    = np.std(loss_epoch)\n",
        "\n",
        "    psnr_mean   = np.mean(psnr_epoch)\n",
        "    psnr_std    = np.std(psnr_epoch)\n",
        "\n",
        "    return (loss_mean, loss_std, psnr_mean, psnr_std)    "
      ]
    },
    {
      "cell_type": "markdown",
      "metadata": {
        "id": "C783v5uJE1Y9"
      },
      "source": [
        "## test"
      ]
    },
    {
      "cell_type": "code",
      "execution_count": 408,
      "metadata": {
        "id": "xJz-987xE38P"
      },
      "outputs": [],
      "source": [
        "#위의 train 코드와 (update moodel parameters) 부분이 없는것 빼고 완전히 동일함.\n",
        "def test(model, dataloader):\n",
        "\n",
        "    loss_epoch      = []\n",
        "    psnr_epoch      = []\n",
        "\n",
        "    model.eval() #eval  model로 사용해야 함,\n",
        "\n",
        "    #dataloader = testing data,\n",
        "    for index_batch, (image, image_noise) in enumerate(dataloader):#각 minibatch마다의 정보 구하기\n",
        "    \n",
        "        image       = image.to(device)\n",
        "        image_noise = image_noise.to(device)\n",
        "\n",
        "        # ================================================== \n",
        "        # fill up the blank\n",
        "        #     \n",
        "        prediction = compute_prediction(model, image_noise)  #내가 추가함\n",
        "        loss        = compute_loss(prediction,image)\n",
        "        loss_value  = compute_loss_value(loss) # loss의 scaler값을구하기 \n",
        "        psnr        = compute_psnr(prediction,image)\n",
        "\n",
        "        #\n",
        "        # ================================================== \n",
        "\n",
        "        loss_epoch.append(loss_value)\n",
        "        psnr_epoch.append(psnr)\n",
        "\n",
        "    loss_mean   = np.mean(loss_epoch)\n",
        "    loss_std    = np.std(loss_epoch)\n",
        " \n",
        "    psnr_mean   = np.mean(psnr_epoch)\n",
        "    psnr_std    = np.std(psnr_epoch)\n",
        "\n",
        "    return (loss_mean, loss_std, psnr_mean, psnr_std)"
      ]
    },
    {
      "cell_type": "markdown",
      "metadata": {
        "id": "j9ZcyzVkFsex"
      },
      "source": [
        "## train and test"
      ]
    },
    {
      "cell_type": "code",
      "execution_count": null,
      "metadata": {
        "colab": {
          "base_uri": "https://localhost:8080/",
          "height": 49,
          "referenced_widgets": [
            "cfaac9aaafd248a3a05417dad75fd257",
            "7daa335915754f15b15434dbebca4058",
            "65537784ad96475393526cf32af3aa4f",
            "df52f9d9301e425c8f47ad1f62877c3e",
            "488973414fb142d7bae339358f513567",
            "f0e48792d3144a51b7e489e278f730a7",
            "11ca0caec5c541c295b1f8b9b1c0e8a7",
            "8f963755518348ff9c4173bae013484e",
            "35839137b4ac4a28a3705a3593840b06",
            "46d922c88aaa4129a3904d5b5f07d19f",
            "5230756a59f543d9b704f349e518414c"
          ]
        },
        "id": "l6Qtqgv8-fMW",
        "outputId": "3c61741b-a2fb-4ab5-dfe9-2bba10415397"
      },
      "outputs": [
        {
          "output_type": "display_data",
          "data": {
            "text/plain": [
              "  0%|          | 0/200 [00:00<?, ?it/s]"
            ],
            "application/vnd.jupyter.widget-view+json": {
              "version_major": 2,
              "version_minor": 0,
              "model_id": "cfaac9aaafd248a3a05417dad75fd257"
            }
          },
          "metadata": {}
        }
      ],
      "source": [
        "#실제 potimization 과정.\n",
        "# ================================================================================\n",
        "# \n",
        "# iterations for epochs\n",
        "#\n",
        "# ================================================================================\n",
        "for i in tqdm(range(number_epoch)):\n",
        "    \n",
        "    # ================================================================================\n",
        "    # \n",
        "    # training\n",
        "    #\n",
        "    # ================================================================================\n",
        "    #수정 x\n",
        "    #위에서 정의한 train함수를 사용하여 dataloader로 epoch마다의 loss, psnr값들을 얻어 넣어줌\n",
        "    (loss_train_mean_epoch, loss_train_std_epoch, psnr_train_mean_epoch, psnr_train_std_epoch) = train(model, optimizer, dataloader_train)\n",
        "    loss_train_mean[i]  = loss_train_mean_epoch\n",
        "    loss_train_std[i]   = loss_train_std_epoch\n",
        "\n",
        "    psnr_train_mean[i]  = psnr_train_mean_epoch\n",
        "    psnr_train_std[i]   = psnr_train_std_epoch\n",
        "\n",
        "    # ================================================================================\n",
        "    # \n",
        "    # testing\n",
        "    #\n",
        "    # ================================================================================\n",
        "    #수정 x\n",
        "    #dataloader로 epoch마다의 loss, psnr값들을 얻어 넣어줌\n",
        "    (loss_test_mean_epoch, loss_test_std_epoch, psnr_test_mean_epoch, psnr_test_std_epoch) = test(model, dataloader_test)\n",
        "\n",
        "    loss_test_mean[i]   = loss_test_mean_epoch\n",
        "    loss_test_std[i]    = loss_test_std_epoch\n",
        "\n",
        "    psnr_test_mean[i]   = psnr_test_mean_epoch\n",
        "    psnr_test_std[i]    = psnr_test_std_epoch"
      ]
    },
    {
      "cell_type": "markdown",
      "metadata": {
        "id": "lVH-ycZ47B0X"
      },
      "source": [
        "---"
      ]
    },
    {
      "cell_type": "markdown",
      "metadata": {
        "id": "jGgVfhNn7B0X"
      },
      "source": [
        "## functions for presenting the results"
      ]
    },
    {
      "cell_type": "markdown",
      "metadata": {
        "id": "rz9xiABm7B0X"
      },
      "source": [
        "---"
      ]
    },
    {
      "cell_type": "code",
      "execution_count": null,
      "metadata": {
        "id": "Tp50r3lh-o-P"
      },
      "outputs": [],
      "source": [
        "def function_result_01():\n",
        "    \n",
        "    title           = 'loss (training)'\n",
        "    label_axis_x    = 'epoch' \n",
        "    label_axis_y    = 'loss'\n",
        "    color_mean      = 'red'\n",
        "    color_std       = 'blue'\n",
        "    alpha           = 0.3\n",
        "\n",
        "    plt.figure(figsize=(8, 6))\n",
        "    plt.title(title)\n",
        "\n",
        "    plt.plot(range(len(loss_train_mean)), loss_train_mean, '-', color = color_mean)\n",
        "    plt.fill_between(range(len(loss_train_mean)), loss_train_mean - loss_train_std, loss_train_mean + loss_train_std, facecolor = color_std, alpha = alpha) \n",
        "    \n",
        "    plt.xlabel(label_axis_x)\n",
        "    plt.ylabel(label_axis_y)\n",
        "\n",
        "    plt.tight_layout()\n",
        "    plt.show()"
      ]
    },
    {
      "cell_type": "code",
      "execution_count": null,
      "metadata": {
        "id": "h0S1K4vn7B0X"
      },
      "outputs": [],
      "source": [
        "def function_result_02():\n",
        "    \n",
        "    title           = 'loss (testing)'\n",
        "    label_axis_x    = 'epoch' \n",
        "    label_axis_y    = 'loss'\n",
        "    color_mean      = 'red'\n",
        "    color_std       = 'blue'\n",
        "    alpha           = 0.3\n",
        "\n",
        "    plt.figure(figsize=(8, 6))\n",
        "    plt.title(title)\n",
        "\n",
        "    plt.plot(range(len(loss_test_mean)), loss_test_mean, '-', color = color_mean)\n",
        "    plt.fill_between(range(len(loss_test_mean)), loss_test_mean - loss_test_std, loss_test_mean + loss_test_std, facecolor = color_std, alpha = alpha) \n",
        "    \n",
        "    plt.xlabel(label_axis_x)\n",
        "    plt.ylabel(label_axis_y)\n",
        "\n",
        "    plt.tight_layout()\n",
        "    plt.show()"
      ]
    },
    {
      "cell_type": "code",
      "execution_count": null,
      "metadata": {
        "id": "B8n3o_8G7B0X"
      },
      "outputs": [],
      "source": [
        "def function_result_03():\n",
        "    \n",
        "    title           = 'psnr (training)'\n",
        "    label_axis_x    = 'epoch' \n",
        "    label_axis_y    = 'psnr'\n",
        "    color_mean      = 'red'\n",
        "    color_std       = 'blue'\n",
        "    alpha           = 0.3\n",
        "\n",
        "    plt.figure(figsize=(8, 6))\n",
        "    plt.title(title)\n",
        "\n",
        "    plt.plot(range(len(psnr_train_mean)), psnr_train_mean, '-', color = color_mean)\n",
        "    plt.fill_between(range(len(psnr_train_mean)), psnr_train_mean - psnr_train_std, psnr_train_mean + psnr_train_std, facecolor = color_std, alpha = alpha) \n",
        "    \n",
        "    plt.xlabel(label_axis_x)\n",
        "    plt.ylabel(label_axis_y)\n",
        "\n",
        "    plt.tight_layout()\n",
        "    plt.show()"
      ]
    },
    {
      "cell_type": "code",
      "execution_count": null,
      "metadata": {
        "id": "x41qSwvs7B0X"
      },
      "outputs": [],
      "source": [
        "def function_result_04():\n",
        "    \n",
        "    title           = 'psnr (testing)'\n",
        "    label_axis_x    = 'epoch' \n",
        "    label_axis_y    = 'psnr'\n",
        "    color_mean      = 'red'\n",
        "    color_std       = 'blue'\n",
        "    alpha           = 0.3\n",
        "\n",
        "    plt.figure(figsize=(8, 6))\n",
        "    plt.title(title)\n",
        "\n",
        "    plt.plot(range(len(psnr_test_mean)), psnr_test_mean, '-', color = color_mean)\n",
        "    plt.fill_between(range(len(psnr_test_mean)), psnr_test_mean - psnr_test_std, psnr_test_mean + psnr_test_std, facecolor = color_std, alpha = alpha) \n",
        "    \n",
        "    plt.xlabel(label_axis_x)\n",
        "    plt.ylabel(label_axis_y)\n",
        "\n",
        "    plt.tight_layout()\n",
        "    plt.show()"
      ]
    },
    {
      "cell_type": "code",
      "execution_count": null,
      "metadata": {
        "id": "WAbeclOC7B0X"
      },
      "outputs": [],
      "source": [
        "def function_result_05():\n",
        "\n",
        "    nRow = 9\n",
        "    nCol = 3\n",
        "    size = 3 \n",
        "    \n",
        "    title = 'training results'\n",
        "    fig, axes = plt.subplots(nRow, nCol, figsize=(size * nCol, size * nRow))\n",
        "    fig.suptitle(title, fontsize=16)\n",
        "\n",
        "    index_image = np.array([0, 1000, 2000, 3000, 4000, 5000, 6000, 7000, 8000])\n",
        "\n",
        "    image           = torch.FloatTensor(dataset_train.image[index_image]).unsqueeze(dim=1).to(device)\n",
        "    image_noise     = torch.FloatTensor(dataset_train.image_noise[index_image]).unsqueeze(dim=1).to(device)\n",
        "    image_denoise   = compute_prediction(model, image_noise)\n",
        "\n",
        "    image           = image.detach().cpu().squeeze(axis=1)\n",
        "    image_noise     = image_noise.detach().cpu().squeeze(axis=1)\n",
        "    image_denoise   = image_denoise.detach().cpu().squeeze(axis=1)\n",
        "\n",
        "    nStep = 3\n",
        "    \n",
        "    for r in range(3):\n",
        "        for c in range(nCol):\n",
        "\n",
        "            axes[0 + r * nStep, c].imshow(image_noise[c + r * nStep], cmap='gray')\n",
        "            axes[1 + r * nStep, c].imshow(image[c + r * nStep], cmap='gray', vmin=0, vmax=1)\n",
        "            axes[2 + r * nStep, c].imshow(image_denoise[c + r * nStep], cmap='gray', vmin=0, vmax=1)\n",
        "\n",
        "            axes[0 + r * nStep, c].xaxis.set_visible(False)\n",
        "            axes[1 + r * nStep, c].xaxis.set_visible(False)\n",
        "            axes[2 + r * nStep, c].xaxis.set_visible(False)\n",
        "            \n",
        "            axes[0 + r * nStep, c].yaxis.set_visible(False)\n",
        "            axes[1 + r * nStep, c].yaxis.set_visible(False)\n",
        "            axes[2 + r * nStep, c].yaxis.set_visible(False)\n",
        "\n",
        "    plt.tight_layout()\n",
        "    plt.show()"
      ]
    },
    {
      "cell_type": "code",
      "execution_count": null,
      "metadata": {
        "id": "1xY2ZShj7B0X"
      },
      "outputs": [],
      "source": [
        "def function_result_06():\n",
        "    \n",
        "    nRow = 9 \n",
        "    nCol = 3\n",
        "    size = 3\n",
        "    \n",
        "    title = 'testing results'\n",
        "    fig, axes = plt.subplots(nRow, nCol, figsize=(size * nCol, size * nRow))\n",
        "    fig.suptitle(title, fontsize=16)\n",
        "\n",
        "    index_image     = np.array([0, 500, 1000, 1500, 2000, 2500, 3000, 3500, 4000])\n",
        "    \n",
        "    image           = torch.FloatTensor(dataset_test.image[index_image]).unsqueeze(dim=1).to(device)\n",
        "    image_noise     = torch.FloatTensor(dataset_test.image_noise[index_image]).unsqueeze(dim=1).to(device)\n",
        "    image_denoise   = compute_prediction(model, image_noise)\n",
        "\n",
        "    image           = image.detach().cpu().squeeze(axis=1)\n",
        "    image_noise     = image_noise.detach().cpu().squeeze(axis=1)\n",
        "    image_denoise   = image_denoise.detach().cpu().squeeze(axis=1)\n",
        "\n",
        "    nStep = 3\n",
        "\n",
        "    for r in range(3):\n",
        "        for c in range(nCol):\n",
        "\n",
        "            axes[0 + r * nStep, c].imshow(image_noise[c + r * nStep], cmap='gray')\n",
        "            axes[1 + r * nStep, c].imshow(image[c + r * nStep], cmap='gray', vmin=0, vmax=1)\n",
        "            axes[2 + r * nStep, c].imshow(image_denoise[c + r * nStep], cmap='gray', vmin=0, vmax=1)\n",
        "\n",
        "            axes[0 + r * nStep, c].xaxis.set_visible(False)\n",
        "            axes[1 + r * nStep, c].xaxis.set_visible(False)\n",
        "            axes[2 + r * nStep, c].xaxis.set_visible(False)\n",
        "            \n",
        "            axes[0 + r * nStep, c].yaxis.set_visible(False)\n",
        "            axes[1 + r * nStep, c].yaxis.set_visible(False)\n",
        "            axes[2 + r * nStep, c].yaxis.set_visible(False)\n",
        "\n",
        "    plt.tight_layout()\n",
        "    plt.show()"
      ]
    },
    {
      "cell_type": "code",
      "execution_count": null,
      "metadata": {
        "id": "exVSoAVG7B0X"
      },
      "outputs": [],
      "source": [
        "def function_result_07():\n",
        "    \n",
        "    print('final training psnr = %9.8f' % (psnr_train_mean[-1]))"
      ]
    },
    {
      "cell_type": "code",
      "execution_count": null,
      "metadata": {
        "id": "LYCEw0gD7B0X"
      },
      "outputs": [],
      "source": [
        "def function_result_08():\n",
        "    \n",
        "    print('final testing psnr = %9.8f' % (psnr_test_mean[-1]))"
      ]
    },
    {
      "cell_type": "markdown",
      "metadata": {
        "id": "Nil7SDFR7B0X"
      },
      "source": [
        "---"
      ]
    },
    {
      "cell_type": "markdown",
      "metadata": {
        "id": "xo7hJmKm7B0X"
      },
      "source": [
        "## results "
      ]
    },
    {
      "cell_type": "markdown",
      "metadata": {
        "id": "4tFiVIEy7B0Y"
      },
      "source": [
        "---"
      ]
    },
    {
      "cell_type": "code",
      "execution_count": null,
      "metadata": {
        "id": "vGwdA1Ge7B0Y"
      },
      "outputs": [],
      "source": [
        "number_result = 8\n",
        "\n",
        "for i in range(number_result):\n",
        "\n",
        "    title           = '# RESULT # {:02d}'.format(i+1) \n",
        "    name_function   = 'function_result_{:02d}()'.format(i+1)\n",
        "\n",
        "    print('') \n",
        "    print('################################################################################')\n",
        "    print('#') \n",
        "    print(title)\n",
        "    print('#') \n",
        "    print('################################################################################')\n",
        "    print('') \n",
        "\n",
        "    eval(name_function)"
      ]
    },
    {
      "cell_type": "code",
      "execution_count": null,
      "metadata": {
        "id": "9O2Uheln7B0Y"
      },
      "outputs": [],
      "source": []
    }
  ],
  "metadata": {
    "accelerator": "GPU",
    "colab": {
      "collapsed_sections": [],
      "provenance": []
    },
    "kernelspec": {
      "display_name": "Python 3.9.12 ('base')",
      "language": "python",
      "name": "python3"
    },
    "language_info": {
      "codemirror_mode": {
        "name": "ipython",
        "version": 3
      },
      "file_extension": ".py",
      "mimetype": "text/x-python",
      "name": "python",
      "nbconvert_exporter": "python",
      "pygments_lexer": "ipython3",
      "version": "3.9.12"
    },
    "vscode": {
      "interpreter": {
        "hash": "40d3a090f54c6569ab1632332b64b2c03c39dcf918b08424e98f38b5ae0af88f"
      }
    },
    "widgets": {
      "application/vnd.jupyter.widget-state+json": {
        "cfaac9aaafd248a3a05417dad75fd257": {
          "model_module": "@jupyter-widgets/controls",
          "model_name": "HBoxModel",
          "model_module_version": "1.5.0",
          "state": {
            "_dom_classes": [],
            "_model_module": "@jupyter-widgets/controls",
            "_model_module_version": "1.5.0",
            "_model_name": "HBoxModel",
            "_view_count": null,
            "_view_module": "@jupyter-widgets/controls",
            "_view_module_version": "1.5.0",
            "_view_name": "HBoxView",
            "box_style": "",
            "children": [
              "IPY_MODEL_7daa335915754f15b15434dbebca4058",
              "IPY_MODEL_65537784ad96475393526cf32af3aa4f",
              "IPY_MODEL_df52f9d9301e425c8f47ad1f62877c3e"
            ],
            "layout": "IPY_MODEL_488973414fb142d7bae339358f513567"
          }
        },
        "7daa335915754f15b15434dbebca4058": {
          "model_module": "@jupyter-widgets/controls",
          "model_name": "HTMLModel",
          "model_module_version": "1.5.0",
          "state": {
            "_dom_classes": [],
            "_model_module": "@jupyter-widgets/controls",
            "_model_module_version": "1.5.0",
            "_model_name": "HTMLModel",
            "_view_count": null,
            "_view_module": "@jupyter-widgets/controls",
            "_view_module_version": "1.5.0",
            "_view_name": "HTMLView",
            "description": "",
            "description_tooltip": null,
            "layout": "IPY_MODEL_f0e48792d3144a51b7e489e278f730a7",
            "placeholder": "​",
            "style": "IPY_MODEL_11ca0caec5c541c295b1f8b9b1c0e8a7",
            "value": " 10%"
          }
        },
        "65537784ad96475393526cf32af3aa4f": {
          "model_module": "@jupyter-widgets/controls",
          "model_name": "FloatProgressModel",
          "model_module_version": "1.5.0",
          "state": {
            "_dom_classes": [],
            "_model_module": "@jupyter-widgets/controls",
            "_model_module_version": "1.5.0",
            "_model_name": "FloatProgressModel",
            "_view_count": null,
            "_view_module": "@jupyter-widgets/controls",
            "_view_module_version": "1.5.0",
            "_view_name": "ProgressView",
            "bar_style": "",
            "description": "",
            "description_tooltip": null,
            "layout": "IPY_MODEL_8f963755518348ff9c4173bae013484e",
            "max": 200,
            "min": 0,
            "orientation": "horizontal",
            "style": "IPY_MODEL_35839137b4ac4a28a3705a3593840b06",
            "value": 19
          }
        },
        "df52f9d9301e425c8f47ad1f62877c3e": {
          "model_module": "@jupyter-widgets/controls",
          "model_name": "HTMLModel",
          "model_module_version": "1.5.0",
          "state": {
            "_dom_classes": [],
            "_model_module": "@jupyter-widgets/controls",
            "_model_module_version": "1.5.0",
            "_model_name": "HTMLModel",
            "_view_count": null,
            "_view_module": "@jupyter-widgets/controls",
            "_view_module_version": "1.5.0",
            "_view_name": "HTMLView",
            "description": "",
            "description_tooltip": null,
            "layout": "IPY_MODEL_46d922c88aaa4129a3904d5b5f07d19f",
            "placeholder": "​",
            "style": "IPY_MODEL_5230756a59f543d9b704f349e518414c",
            "value": " 19/200 [00:20&lt;03:11,  1.06s/it]"
          }
        },
        "488973414fb142d7bae339358f513567": {
          "model_module": "@jupyter-widgets/base",
          "model_name": "LayoutModel",
          "model_module_version": "1.2.0",
          "state": {
            "_model_module": "@jupyter-widgets/base",
            "_model_module_version": "1.2.0",
            "_model_name": "LayoutModel",
            "_view_count": null,
            "_view_module": "@jupyter-widgets/base",
            "_view_module_version": "1.2.0",
            "_view_name": "LayoutView",
            "align_content": null,
            "align_items": null,
            "align_self": null,
            "border": null,
            "bottom": null,
            "display": null,
            "flex": null,
            "flex_flow": null,
            "grid_area": null,
            "grid_auto_columns": null,
            "grid_auto_flow": null,
            "grid_auto_rows": null,
            "grid_column": null,
            "grid_gap": null,
            "grid_row": null,
            "grid_template_areas": null,
            "grid_template_columns": null,
            "grid_template_rows": null,
            "height": null,
            "justify_content": null,
            "justify_items": null,
            "left": null,
            "margin": null,
            "max_height": null,
            "max_width": null,
            "min_height": null,
            "min_width": null,
            "object_fit": null,
            "object_position": null,
            "order": null,
            "overflow": null,
            "overflow_x": null,
            "overflow_y": null,
            "padding": null,
            "right": null,
            "top": null,
            "visibility": null,
            "width": null
          }
        },
        "f0e48792d3144a51b7e489e278f730a7": {
          "model_module": "@jupyter-widgets/base",
          "model_name": "LayoutModel",
          "model_module_version": "1.2.0",
          "state": {
            "_model_module": "@jupyter-widgets/base",
            "_model_module_version": "1.2.0",
            "_model_name": "LayoutModel",
            "_view_count": null,
            "_view_module": "@jupyter-widgets/base",
            "_view_module_version": "1.2.0",
            "_view_name": "LayoutView",
            "align_content": null,
            "align_items": null,
            "align_self": null,
            "border": null,
            "bottom": null,
            "display": null,
            "flex": null,
            "flex_flow": null,
            "grid_area": null,
            "grid_auto_columns": null,
            "grid_auto_flow": null,
            "grid_auto_rows": null,
            "grid_column": null,
            "grid_gap": null,
            "grid_row": null,
            "grid_template_areas": null,
            "grid_template_columns": null,
            "grid_template_rows": null,
            "height": null,
            "justify_content": null,
            "justify_items": null,
            "left": null,
            "margin": null,
            "max_height": null,
            "max_width": null,
            "min_height": null,
            "min_width": null,
            "object_fit": null,
            "object_position": null,
            "order": null,
            "overflow": null,
            "overflow_x": null,
            "overflow_y": null,
            "padding": null,
            "right": null,
            "top": null,
            "visibility": null,
            "width": null
          }
        },
        "11ca0caec5c541c295b1f8b9b1c0e8a7": {
          "model_module": "@jupyter-widgets/controls",
          "model_name": "DescriptionStyleModel",
          "model_module_version": "1.5.0",
          "state": {
            "_model_module": "@jupyter-widgets/controls",
            "_model_module_version": "1.5.0",
            "_model_name": "DescriptionStyleModel",
            "_view_count": null,
            "_view_module": "@jupyter-widgets/base",
            "_view_module_version": "1.2.0",
            "_view_name": "StyleView",
            "description_width": ""
          }
        },
        "8f963755518348ff9c4173bae013484e": {
          "model_module": "@jupyter-widgets/base",
          "model_name": "LayoutModel",
          "model_module_version": "1.2.0",
          "state": {
            "_model_module": "@jupyter-widgets/base",
            "_model_module_version": "1.2.0",
            "_model_name": "LayoutModel",
            "_view_count": null,
            "_view_module": "@jupyter-widgets/base",
            "_view_module_version": "1.2.0",
            "_view_name": "LayoutView",
            "align_content": null,
            "align_items": null,
            "align_self": null,
            "border": null,
            "bottom": null,
            "display": null,
            "flex": null,
            "flex_flow": null,
            "grid_area": null,
            "grid_auto_columns": null,
            "grid_auto_flow": null,
            "grid_auto_rows": null,
            "grid_column": null,
            "grid_gap": null,
            "grid_row": null,
            "grid_template_areas": null,
            "grid_template_columns": null,
            "grid_template_rows": null,
            "height": null,
            "justify_content": null,
            "justify_items": null,
            "left": null,
            "margin": null,
            "max_height": null,
            "max_width": null,
            "min_height": null,
            "min_width": null,
            "object_fit": null,
            "object_position": null,
            "order": null,
            "overflow": null,
            "overflow_x": null,
            "overflow_y": null,
            "padding": null,
            "right": null,
            "top": null,
            "visibility": null,
            "width": null
          }
        },
        "35839137b4ac4a28a3705a3593840b06": {
          "model_module": "@jupyter-widgets/controls",
          "model_name": "ProgressStyleModel",
          "model_module_version": "1.5.0",
          "state": {
            "_model_module": "@jupyter-widgets/controls",
            "_model_module_version": "1.5.0",
            "_model_name": "ProgressStyleModel",
            "_view_count": null,
            "_view_module": "@jupyter-widgets/base",
            "_view_module_version": "1.2.0",
            "_view_name": "StyleView",
            "bar_color": null,
            "description_width": ""
          }
        },
        "46d922c88aaa4129a3904d5b5f07d19f": {
          "model_module": "@jupyter-widgets/base",
          "model_name": "LayoutModel",
          "model_module_version": "1.2.0",
          "state": {
            "_model_module": "@jupyter-widgets/base",
            "_model_module_version": "1.2.0",
            "_model_name": "LayoutModel",
            "_view_count": null,
            "_view_module": "@jupyter-widgets/base",
            "_view_module_version": "1.2.0",
            "_view_name": "LayoutView",
            "align_content": null,
            "align_items": null,
            "align_self": null,
            "border": null,
            "bottom": null,
            "display": null,
            "flex": null,
            "flex_flow": null,
            "grid_area": null,
            "grid_auto_columns": null,
            "grid_auto_flow": null,
            "grid_auto_rows": null,
            "grid_column": null,
            "grid_gap": null,
            "grid_row": null,
            "grid_template_areas": null,
            "grid_template_columns": null,
            "grid_template_rows": null,
            "height": null,
            "justify_content": null,
            "justify_items": null,
            "left": null,
            "margin": null,
            "max_height": null,
            "max_width": null,
            "min_height": null,
            "min_width": null,
            "object_fit": null,
            "object_position": null,
            "order": null,
            "overflow": null,
            "overflow_x": null,
            "overflow_y": null,
            "padding": null,
            "right": null,
            "top": null,
            "visibility": null,
            "width": null
          }
        },
        "5230756a59f543d9b704f349e518414c": {
          "model_module": "@jupyter-widgets/controls",
          "model_name": "DescriptionStyleModel",
          "model_module_version": "1.5.0",
          "state": {
            "_model_module": "@jupyter-widgets/controls",
            "_model_module_version": "1.5.0",
            "_model_name": "DescriptionStyleModel",
            "_view_count": null,
            "_view_module": "@jupyter-widgets/base",
            "_view_module_version": "1.2.0",
            "_view_name": "StyleView",
            "description_width": ""
          }
        }
      }
    }
  },
  "nbformat": 4,
  "nbformat_minor": 0
}